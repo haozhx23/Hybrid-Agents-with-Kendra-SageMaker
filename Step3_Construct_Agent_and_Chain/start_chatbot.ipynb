{
 "cells": [
  {
   "cell_type": "code",
   "execution_count": 1,
   "id": "70e92903",
   "metadata": {},
   "outputs": [
    {
     "name": "stdout",
     "output_type": "stream",
     "text": [
      "Looking in indexes: https://pypi.org/simple, https://pip.repos.neuron.amazonaws.com\n",
      "Requirement already satisfied: gradio in /home/ec2-user/anaconda3/envs/python3/lib/python3.10/site-packages (3.35.2)\n",
      "Requirement already satisfied: langchain in /home/ec2-user/anaconda3/envs/python3/lib/python3.10/site-packages (0.0.220)\n",
      "Requirement already satisfied: aiofiles in /home/ec2-user/anaconda3/envs/python3/lib/python3.10/site-packages (from gradio) (22.1.0)\n",
      "Requirement already satisfied: aiohttp in /home/ec2-user/anaconda3/envs/python3/lib/python3.10/site-packages (from gradio) (3.8.4)\n",
      "Requirement already satisfied: altair>=4.2.0 in /home/ec2-user/anaconda3/envs/python3/lib/python3.10/site-packages (from gradio) (5.0.1)\n",
      "Requirement already satisfied: fastapi in /home/ec2-user/anaconda3/envs/python3/lib/python3.10/site-packages (from gradio) (0.99.0)\n",
      "Requirement already satisfied: ffmpy in /home/ec2-user/anaconda3/envs/python3/lib/python3.10/site-packages (from gradio) (0.3.0)\n",
      "Requirement already satisfied: gradio-client>=0.2.7 in /home/ec2-user/anaconda3/envs/python3/lib/python3.10/site-packages (from gradio) (0.2.7)\n",
      "Requirement already satisfied: httpx in /home/ec2-user/anaconda3/envs/python3/lib/python3.10/site-packages (from gradio) (0.24.1)\n",
      "Requirement already satisfied: huggingface-hub>=0.14.0 in /home/ec2-user/anaconda3/envs/python3/lib/python3.10/site-packages (from gradio) (0.15.1)\n",
      "Requirement already satisfied: jinja2 in /home/ec2-user/anaconda3/envs/python3/lib/python3.10/site-packages (from gradio) (3.1.2)\n",
      "Requirement already satisfied: markdown-it-py[linkify]>=2.0.0 in /home/ec2-user/anaconda3/envs/python3/lib/python3.10/site-packages (from gradio) (2.2.0)\n",
      "Requirement already satisfied: markupsafe in /home/ec2-user/anaconda3/envs/python3/lib/python3.10/site-packages (from gradio) (2.1.2)\n",
      "Requirement already satisfied: matplotlib in /home/ec2-user/anaconda3/envs/python3/lib/python3.10/site-packages (from gradio) (3.7.1)\n",
      "Requirement already satisfied: mdit-py-plugins<=0.3.3 in /home/ec2-user/anaconda3/envs/python3/lib/python3.10/site-packages (from gradio) (0.3.3)\n",
      "Requirement already satisfied: numpy in /home/ec2-user/anaconda3/envs/python3/lib/python3.10/site-packages (from gradio) (1.22.3)\n",
      "Requirement already satisfied: orjson in /home/ec2-user/anaconda3/envs/python3/lib/python3.10/site-packages (from gradio) (3.9.1)\n",
      "Requirement already satisfied: pandas in /home/ec2-user/anaconda3/envs/python3/lib/python3.10/site-packages (from gradio) (2.0.1)\n",
      "Requirement already satisfied: pillow in /home/ec2-user/anaconda3/envs/python3/lib/python3.10/site-packages (from gradio) (9.4.0)\n",
      "Requirement already satisfied: pydantic in /home/ec2-user/anaconda3/envs/python3/lib/python3.10/site-packages (from gradio) (1.10.10)\n",
      "Requirement already satisfied: pydub in /home/ec2-user/anaconda3/envs/python3/lib/python3.10/site-packages (from gradio) (0.25.1)\n",
      "Requirement already satisfied: pygments>=2.12.0 in /home/ec2-user/anaconda3/envs/python3/lib/python3.10/site-packages (from gradio) (2.15.1)\n",
      "Requirement already satisfied: python-multipart in /home/ec2-user/anaconda3/envs/python3/lib/python3.10/site-packages (from gradio) (0.0.6)\n",
      "Requirement already satisfied: pyyaml in /home/ec2-user/anaconda3/envs/python3/lib/python3.10/site-packages (from gradio) (6.0)\n",
      "Requirement already satisfied: requests in /home/ec2-user/anaconda3/envs/python3/lib/python3.10/site-packages (from gradio) (2.29.0)\n",
      "Requirement already satisfied: semantic-version in /home/ec2-user/anaconda3/envs/python3/lib/python3.10/site-packages (from gradio) (2.10.0)\n",
      "Requirement already satisfied: uvicorn>=0.14.0 in /home/ec2-user/anaconda3/envs/python3/lib/python3.10/site-packages (from gradio) (0.22.0)\n",
      "Requirement already satisfied: websockets>=10.0 in /home/ec2-user/anaconda3/envs/python3/lib/python3.10/site-packages (from gradio) (11.0.3)\n",
      "Requirement already satisfied: SQLAlchemy<3,>=1.4 in /home/ec2-user/anaconda3/envs/python3/lib/python3.10/site-packages (from langchain) (2.0.12)\n",
      "Requirement already satisfied: async-timeout<5.0.0,>=4.0.0 in /home/ec2-user/anaconda3/envs/python3/lib/python3.10/site-packages (from langchain) (4.0.2)\n",
      "Requirement already satisfied: dataclasses-json<0.6.0,>=0.5.7 in /home/ec2-user/anaconda3/envs/python3/lib/python3.10/site-packages (from langchain) (0.5.9)\n",
      "Requirement already satisfied: langchainplus-sdk>=0.0.17 in /home/ec2-user/anaconda3/envs/python3/lib/python3.10/site-packages (from langchain) (0.0.19)\n",
      "Requirement already satisfied: numexpr<3.0.0,>=2.8.4 in /home/ec2-user/anaconda3/envs/python3/lib/python3.10/site-packages (from langchain) (2.8.4)\n",
      "Requirement already satisfied: openapi-schema-pydantic<2.0,>=1.2 in /home/ec2-user/anaconda3/envs/python3/lib/python3.10/site-packages (from langchain) (1.2.4)\n",
      "Requirement already satisfied: tenacity<9.0.0,>=8.1.0 in /home/ec2-user/anaconda3/envs/python3/lib/python3.10/site-packages (from langchain) (8.2.2)\n",
      "Requirement already satisfied: attrs>=17.3.0 in /home/ec2-user/anaconda3/envs/python3/lib/python3.10/site-packages (from aiohttp->gradio) (23.1.0)\n",
      "Requirement already satisfied: charset-normalizer<4.0,>=2.0 in /home/ec2-user/anaconda3/envs/python3/lib/python3.10/site-packages (from aiohttp->gradio) (2.1.1)\n",
      "Requirement already satisfied: multidict<7.0,>=4.5 in /home/ec2-user/anaconda3/envs/python3/lib/python3.10/site-packages (from aiohttp->gradio) (6.0.4)\n",
      "Requirement already satisfied: yarl<2.0,>=1.0 in /home/ec2-user/anaconda3/envs/python3/lib/python3.10/site-packages (from aiohttp->gradio) (1.9.1)\n",
      "Requirement already satisfied: frozenlist>=1.1.1 in /home/ec2-user/anaconda3/envs/python3/lib/python3.10/site-packages (from aiohttp->gradio) (1.3.3)\n",
      "Requirement already satisfied: aiosignal>=1.1.2 in /home/ec2-user/anaconda3/envs/python3/lib/python3.10/site-packages (from aiohttp->gradio) (1.3.1)\n",
      "Requirement already satisfied: jsonschema>=3.0 in /home/ec2-user/anaconda3/envs/python3/lib/python3.10/site-packages (from altair>=4.2.0->gradio) (3.2.0)\n",
      "Requirement already satisfied: toolz in /home/ec2-user/anaconda3/envs/python3/lib/python3.10/site-packages (from altair>=4.2.0->gradio) (0.12.0)\n",
      "Requirement already satisfied: typing-extensions>=4.0.1 in /home/ec2-user/anaconda3/envs/python3/lib/python3.10/site-packages (from altair>=4.2.0->gradio) (4.5.0)\n",
      "Requirement already satisfied: marshmallow<4.0.0,>=3.3.0 in /home/ec2-user/anaconda3/envs/python3/lib/python3.10/site-packages (from dataclasses-json<0.6.0,>=0.5.7->langchain) (3.19.0)\n",
      "Requirement already satisfied: marshmallow-enum<2.0.0,>=1.5.1 in /home/ec2-user/anaconda3/envs/python3/lib/python3.10/site-packages (from dataclasses-json<0.6.0,>=0.5.7->langchain) (1.5.1)\n",
      "Requirement already satisfied: typing-inspect>=0.4.0 in /home/ec2-user/anaconda3/envs/python3/lib/python3.10/site-packages (from dataclasses-json<0.6.0,>=0.5.7->langchain) (0.9.0)\n",
      "Requirement already satisfied: fsspec in /home/ec2-user/anaconda3/envs/python3/lib/python3.10/site-packages (from gradio-client>=0.2.7->gradio) (2023.5.0)\n",
      "Requirement already satisfied: packaging in /home/ec2-user/anaconda3/envs/python3/lib/python3.10/site-packages (from gradio-client>=0.2.7->gradio) (21.3)\n",
      "Requirement already satisfied: filelock in /home/ec2-user/anaconda3/envs/python3/lib/python3.10/site-packages (from huggingface-hub>=0.14.0->gradio) (3.12.0)\n",
      "Requirement already satisfied: tqdm>=4.42.1 in /home/ec2-user/anaconda3/envs/python3/lib/python3.10/site-packages (from huggingface-hub>=0.14.0->gradio) (4.65.0)\n",
      "Requirement already satisfied: mdurl~=0.1 in /home/ec2-user/anaconda3/envs/python3/lib/python3.10/site-packages (from markdown-it-py[linkify]>=2.0.0->gradio) (0.1.2)\n",
      "Requirement already satisfied: linkify-it-py<3,>=1 in /home/ec2-user/anaconda3/envs/python3/lib/python3.10/site-packages (from markdown-it-py[linkify]>=2.0.0->gradio) (2.0.2)\n",
      "Requirement already satisfied: python-dateutil>=2.8.2 in /home/ec2-user/anaconda3/envs/python3/lib/python3.10/site-packages (from pandas->gradio) (2.8.2)\n",
      "Requirement already satisfied: pytz>=2020.1 in /home/ec2-user/anaconda3/envs/python3/lib/python3.10/site-packages (from pandas->gradio) (2023.3)\n",
      "Requirement already satisfied: tzdata>=2022.1 in /home/ec2-user/anaconda3/envs/python3/lib/python3.10/site-packages (from pandas->gradio) (2023.3)\n",
      "Requirement already satisfied: idna<4,>=2.5 in /home/ec2-user/anaconda3/envs/python3/lib/python3.10/site-packages (from requests->gradio) (3.4)\n",
      "Requirement already satisfied: urllib3<1.27,>=1.21.1 in /home/ec2-user/anaconda3/envs/python3/lib/python3.10/site-packages (from requests->gradio) (1.26.8)\n",
      "Requirement already satisfied: certifi>=2017.4.17 in /home/ec2-user/anaconda3/envs/python3/lib/python3.10/site-packages (from requests->gradio) (2023.5.7)\n"
     ]
    },
    {
     "name": "stdout",
     "output_type": "stream",
     "text": [
      "Requirement already satisfied: greenlet!=0.4.17 in /home/ec2-user/anaconda3/envs/python3/lib/python3.10/site-packages (from SQLAlchemy<3,>=1.4->langchain) (2.0.2)\n",
      "Requirement already satisfied: click>=7.0 in /home/ec2-user/anaconda3/envs/python3/lib/python3.10/site-packages (from uvicorn>=0.14.0->gradio) (8.1.3)\n",
      "Requirement already satisfied: h11>=0.8 in /home/ec2-user/anaconda3/envs/python3/lib/python3.10/site-packages (from uvicorn>=0.14.0->gradio) (0.14.0)\n",
      "Requirement already satisfied: starlette<0.28.0,>=0.27.0 in /home/ec2-user/anaconda3/envs/python3/lib/python3.10/site-packages (from fastapi->gradio) (0.27.0)\n",
      "Requirement already satisfied: httpcore<0.18.0,>=0.15.0 in /home/ec2-user/anaconda3/envs/python3/lib/python3.10/site-packages (from httpx->gradio) (0.17.2)\n",
      "Requirement already satisfied: sniffio in /home/ec2-user/anaconda3/envs/python3/lib/python3.10/site-packages (from httpx->gradio) (1.3.0)\n",
      "Requirement already satisfied: contourpy>=1.0.1 in /home/ec2-user/anaconda3/envs/python3/lib/python3.10/site-packages (from matplotlib->gradio) (1.0.7)\n",
      "Requirement already satisfied: cycler>=0.10 in /home/ec2-user/anaconda3/envs/python3/lib/python3.10/site-packages (from matplotlib->gradio) (0.11.0)\n",
      "Requirement already satisfied: fonttools>=4.22.0 in /home/ec2-user/anaconda3/envs/python3/lib/python3.10/site-packages (from matplotlib->gradio) (4.39.3)\n",
      "Requirement already satisfied: kiwisolver>=1.0.1 in /home/ec2-user/anaconda3/envs/python3/lib/python3.10/site-packages (from matplotlib->gradio) (1.4.4)\n",
      "Requirement already satisfied: pyparsing>=2.3.1 in /home/ec2-user/anaconda3/envs/python3/lib/python3.10/site-packages (from matplotlib->gradio) (3.0.9)\n",
      "Requirement already satisfied: anyio<5.0,>=3.0 in /home/ec2-user/anaconda3/envs/python3/lib/python3.10/site-packages (from httpcore<0.18.0,>=0.15.0->httpx->gradio) (3.6.2)\n",
      "Requirement already satisfied: pyrsistent>=0.14.0 in /home/ec2-user/anaconda3/envs/python3/lib/python3.10/site-packages (from jsonschema>=3.0->altair>=4.2.0->gradio) (0.19.3)\n",
      "Requirement already satisfied: setuptools in /home/ec2-user/anaconda3/envs/python3/lib/python3.10/site-packages (from jsonschema>=3.0->altair>=4.2.0->gradio) (67.7.2)\n",
      "Requirement already satisfied: six>=1.11.0 in /home/ec2-user/anaconda3/envs/python3/lib/python3.10/site-packages (from jsonschema>=3.0->altair>=4.2.0->gradio) (1.16.0)\n",
      "Requirement already satisfied: uc-micro-py in /home/ec2-user/anaconda3/envs/python3/lib/python3.10/site-packages (from linkify-it-py<3,>=1->markdown-it-py[linkify]>=2.0.0->gradio) (1.0.2)\n",
      "Requirement already satisfied: mypy-extensions>=0.3.0 in /home/ec2-user/anaconda3/envs/python3/lib/python3.10/site-packages (from typing-inspect>=0.4.0->dataclasses-json<0.6.0,>=0.5.7->langchain) (1.0.0)\n"
     ]
    }
   ],
   "source": [
    "!pip install gradio langchain"
   ]
  },
  {
   "cell_type": "code",
   "execution_count": 2,
   "id": "254db8dc",
   "metadata": {},
   "outputs": [
    {
     "name": "stdout",
     "output_type": "stream",
     "text": [
      "sagemaker role arn: arn:aws:iam::808577411626:role/Slab01AIGCPracticerRole\n",
      "sagemaker bucket: sagemaker-us-west-2-808577411626\n",
      "sagemaker session region: us-west-2\n"
     ]
    }
   ],
   "source": [
    "import sagemaker\n",
    "import boto3\n",
    "\n",
    "sess = sagemaker.Session()\n",
    "region = sess.boto_session.region_name\n",
    "# sagemaker session bucket -> used for uploading data, models and logs\n",
    "# sagemaker will automatically create this bucket if it not exists\n",
    "default_bucket=None\n",
    "if default_bucket is None and sess is not None:\n",
    "    # set to default bucket if a bucket name is not given\n",
    "    default_bucket = sess.default_bucket()\n",
    "\n",
    "try:\n",
    "    role = sagemaker.get_execution_role()\n",
    "except ValueError:\n",
    "    iam = boto3.client('iam')\n",
    "    role = iam.get_role(RoleName='sagemaker_execution_role')['Role']['Arn']\n",
    "\n",
    "\n",
    "print(f\"sagemaker role arn: {role}\")\n",
    "print(f\"sagemaker bucket: {default_bucket}\")\n",
    "print(f\"sagemaker session region: {region}\")"
   ]
  },
  {
   "cell_type": "code",
   "execution_count": 3,
   "id": "193c3578-e67b-40fc-b4f1-9a8f9e8fce08",
   "metadata": {},
   "outputs": [
    {
     "name": "stdout",
     "output_type": "stream",
     "text": [
      "Sagemaker notebooks may require sharing enabled. Setting `share=True` (you can turn this off by setting `share=False` in `launch()` explicitly).\n",
      "\n",
      "Running on local URL:  http://127.0.0.1:7860\n",
      "Running on public URL: https://952d088939c110c4f9.gradio.live\n",
      "\n",
      "This share link expires in 72 hours. For free permanent hosting and GPU upgrades, run `gradio deploy` from Terminal to deploy to Spaces (https://huggingface.co/spaces)\n"
     ]
    },
    {
     "data": {
      "text/html": [
       "<div><iframe src=\"https://952d088939c110c4f9.gradio.live\" width=\"100%\" height=\"500\" allow=\"autoplay; camera; microphone; clipboard-read; clipboard-write;\" frameborder=\"0\" allowfullscreen></iframe></div>"
      ],
      "text/plain": [
       "<IPython.core.display.HTML object>"
      ]
     },
     "metadata": {},
     "output_type": "display_data"
    },
    {
     "data": {
      "text/plain": []
     },
     "execution_count": 3,
     "metadata": {},
     "output_type": "execute_result"
    }
   ],
   "source": [
    "# %%writefile ui_launcher_v.py\n",
    "import gradio as gr\n",
    "import random\n",
    "import time\n",
    "from sagemaker_endpoint_llm import SageMakerLLM\n",
    "from kendra_retrieval_qa_chain import KendraLLMRetrieverQAChain\n",
    "from custom_search_helper import WebSearcher\n",
    "from custom_agent_helper import CustomExecutor\n",
    "\n",
    "\n",
    "LLM_ENDPOINT_NAME = 'xxxx-xx-xx-xx-xx' # Paste here SageMaker Endpoint Name created in Step2\n",
    "KENDRA_INDEX_ID = 'xxxx-xx-xx-xx-xx'    # Paste here Kendra index id created in Step1\n",
    "RAPID_API_KEY = '---51-digit-key---' # use rapid api, can be applied in https://rapidapi.com/microsoft-azure-org-microsoft-cognitive-services/api/bing-web-search1/\n",
    "\n",
    "\n",
    "KENDRA_LANG_CODE = 'zh' # full lang code list in https://docs.aws.amazon.com/kendra/latest/dg/in-adding-languages.html\n",
    "\n",
    "llm = SageMakerLLM(\n",
    "            SageMakerEndpointName = LLM_ENDPOINT_NAME,\n",
    "            AWSRegion = region,\n",
    "            LLMType = 'GLM-6b',\n",
    "            LLMArgs={'top_p': 0.45, 'temperature': 0.45}\n",
    "        )\n",
    "\n",
    "\n",
    "kqa = KendraLLMRetrieverQAChain(\n",
    "            KendraIndexId = KENDRA_INDEX_ID,\n",
    "            KendraLanguageCode = KENDRA_LANG_CODE,\n",
    "            AWSRegion = region,\n",
    "            Llm = llm.get_llm()\n",
    "        )\n",
    "\n",
    "web_searcher = WebSearcher(\n",
    "                apikey = RAPID_API_KEY,\n",
    "                result_count = 5,\n",
    "                lang_code = 'zh'       #### only google\n",
    "            )\n",
    "\n",
    "flat_agent = CustomExecutor(llm = llm.sm_llm,\n",
    "                        retriever = kqa.kendra_retriever,\n",
    "                        websearcher = web_searcher,\n",
    "                        kendra_chain = None, # retriever will be overwritten if assigned\n",
    "                        verbose=True\n",
    "                       )\n",
    "\n",
    "hier_agent = CustomExecutor(llm = llm.sm_llm,\n",
    "                        retriever = kqa.kendra_retriever,\n",
    "                        websearcher = web_searcher,\n",
    "                        kendra_chain = kqa, # retriever will be overwritten if assigned\n",
    "                        verbose=True\n",
    "                       )\n",
    "\n",
    "web_agent = CustomExecutor(llm = llm.sm_llm,\n",
    "                        retriever = None,\n",
    "                        websearcher = web_searcher,\n",
    "                        kendra_chain = None, # retriever will be overwritten if assigned\n",
    "                        verbose=True\n",
    "                       )\n",
    "\n",
    "\n",
    "theme=gr.themes.Default(spacing_size=gr.themes.sizes.spacing_sm, text_size=gr.themes.sizes.text_sm)\n",
    "with gr.Blocks(theme) as demo:\n",
    "    chatbot = gr.Chatbot()\n",
    "    msg = gr.Textbox(label='User Input: ')\n",
    "    \n",
    "    with gr.Row():\n",
    "        clear = gr.ClearButton([msg, chatbot])\n",
    "        int_btn = gr.Button(\"InternalQA\", variant=\"primary\")\n",
    "        hyb_btn = gr.Button(\"HybridQA\\n(Beta..)\")\n",
    "\n",
    "    def respond(message, chat_history):\n",
    "        bot_resp = hier_agent.query(message)\n",
    "        chat_history.append((message, bot_resp))\n",
    "        \n",
    "        return \"\", chat_history\n",
    "    \n",
    "    def respond_internal(message, chat_history):\n",
    "        bot_resp = kqa.kendra_chain_qa(message)\n",
    "        chat_history.append((message, bot_resp['result']))\n",
    "        \n",
    "        return \"\", chat_history\n",
    "        \n",
    "    msg.submit(respond_internal, [msg, chatbot], [msg, chatbot])\n",
    "    \n",
    "    int_btn.click(respond_internal, [msg, chatbot], [msg, chatbot])\n",
    "    hyb_btn.click(respond, [msg, chatbot], [msg, chatbot])\n",
    "\n",
    "demo.launch()"
   ]
  },
  {
   "cell_type": "code",
   "execution_count": null,
   "id": "1ef62f7a-77e4-4c67-9817-3cbf622c473d",
   "metadata": {},
   "outputs": [],
   "source": []
  },
  {
   "cell_type": "markdown",
   "id": "4641a713-4714-489d-9001-425e6c5ab053",
   "metadata": {},
   "source": [
    "## Unit tests"
   ]
  },
  {
   "cell_type": "code",
   "execution_count": 5,
   "id": "fef4957d-ca11-4515-b164-ede60a841433",
   "metadata": {},
   "outputs": [
    {
     "data": {
      "text/plain": [
       "'我是基于清华大学 KEG 实验室和智谱 AI 公司于 2023 年共同训练的语言模型开发的AI助手，我的知识截止到2023年。'"
      ]
     },
     "execution_count": 5,
     "metadata": {},
     "output_type": "execute_result"
    }
   ],
   "source": [
    "# model test\n",
    "llm.sm_llm('你最新的知识截止到什么时间')"
   ]
  },
  {
   "cell_type": "code",
   "execution_count": 6,
   "id": "be3acdfa-3d94-4698-b9d5-998fdcc8c8b3",
   "metadata": {},
   "outputs": [
    {
     "data": {
      "text/plain": [
       "[Document(page_content='Document Title: \\nDocument Excerpt: \\n目前只支持S3，其他数据源近期没有具体计划。\\n', metadata={'source': '', 'title': '', 'excerpt': '目前只支持S3，其他数据源近期没有具体计划。', 'type': 'QUESTION_ANSWER'}),\n",
       " Document(page_content='Document Title: \\nDocument Excerpt: \\n对，目前必须在AWS上，而且必须是同一个region。\\n', metadata={'source': '', 'title': '', 'excerpt': '对，目前必须在AWS上，而且必须是同一个region。', 'type': 'QUESTION_ANSWER'}),\n",
       " Document(page_content='Document Title: \\nDocument Excerpt: \\n能支持TB/GB级数据的查询。 一般查询延迟为几十秒到几分钟。默认计算容量为32 CRPUs， 目前这个默认计算容量不可设置，但是roadmap中未来打算让用户可以进行设置。(Slack中Ryan 提到，如果引擎中任务有积压，它能够scale up）\\n', metadata={'source': '', 'title': '', 'excerpt': '能支持TB/GB级数据的查询。 一般查询延迟为几十秒到几分钟。默认计算容量为32 CRPUs， 目前这个默认计算容量不可设置，但是roadmap中未来打算让用户可以进行设置。(Slack中Ryan 提到，如果引擎中任务有积压，它能够scale up）', 'type': 'QUESTION_ANSWER'})]"
      ]
     },
     "execution_count": 6,
     "metadata": {},
     "output_type": "execute_result"
    }
   ],
   "source": [
    "# retriever test\n",
    "kqa.kendra_retriever.get_relevant_documents('AWS clean room支持的数据源有哪些')"
   ]
  },
  {
   "cell_type": "code",
   "execution_count": 7,
   "id": "37755a90-2021-4dde-8967-86dd57656bd0",
   "metadata": {},
   "outputs": [
    {
     "data": {
      "text/plain": [
       "('AWS clean room支持的数据源有哪些', '根据提供的背景知识，AWS Clean Room支持的数据源目前只有S3。')"
      ]
     },
     "execution_count": 7,
     "metadata": {},
     "output_type": "execute_result"
    }
   ],
   "source": [
    "resp = kqa.kendra_chain_qa('AWS clean room支持的数据源有哪些')\n",
    "resp['query'], resp['result']"
   ]
  },
  {
   "cell_type": "code",
   "execution_count": 8,
   "id": "e0f45f6e-d071-4537-9dc6-a440477bea6a",
   "metadata": {},
   "outputs": [
    {
     "name": "stdout",
     "output_type": "stream",
     "text": [
      "0. 国内首个类ChatGPT 模型：复旦大学MOSS 今日正式开源 - IT之家: 据介绍，MOSS 是一个支持中英双语和多种插件的开源对话语言模型，moss-moon 系列模型具有160 亿参数，在FP16 精度下可在单张A100 / A800 或两张3090 显卡 ... # https://www.ithome.com/0/688/006.htm #\n",
      "1. 复旦MOSS大模型正式开源：能写文案、生成图像、解数学题 - 巴比特: 目前，MOSS模型已上线开源，相关代码、数据、模型参数在Github和Hugging Face等平台开放，供科研人员下载。 复旦大学计算机科学技术学院教授MOSS系统负责 ... # https://www.8btc.com/article/6814840 #\n",
      "2. MOSS: 登录注册 · 申请问卷. # https://moss.fastnlp.top/ #\n",
      "3. 复旦大学MOSS 大模型正式开源；周鸿祎：360 员工不会被GPT 淘汰: 据介绍，MOSS 是一个支持中英双语和多种插件的开源对话语言模型，moss-moon 系列模型具有160 亿参数，在FP16 精度下可在单张A100 / A800 或两张3090 显卡 ... # https://www.geekpark.net/news/318008 #\n",
      "4. 复旦团队大模型MOSS 开源了，有哪些技术亮点值得关注？ - 知乎: TL, DR：复旦NLP 团队的MOSS 大语言模型今天开源了，增加「搜索引擎、计算器、解方程、文生图」等插件功能，可以在线体验，支持本地部署。 # https://www.zhihu.com/question/596908242 #\n"
     ]
    }
   ],
   "source": [
    "# web search API test\n",
    "web_searcher.search('moss大模型')"
   ]
  },
  {
   "cell_type": "code",
   "execution_count": 9,
   "id": "738bad5c-55d1-40da-b257-714c004fefff",
   "metadata": {},
   "outputs": [
    {
     "name": "stdout",
     "output_type": "stream",
     "text": [
      "\n",
      "\n",
      "\u001b[1m> Entering new  chain...\u001b[0m\n",
      "-DD-intermediate_steps:  []\n",
      "-DD-formated_prompt_temp:  现在你是一个固定任务的机器人。这里有一些已知信息：\n",
      "        问题:AWS clean room支持哪些数据源。解答:根据提供的背景知识，AWS Clean Room支持S3数据源。\n",
      "        \n",
      "\n",
      "        Instruction: 只能基于以上提供的已知信息，回答问题“AWS clean room支持哪些数据源”。如果没有或者缺失必要的相关信息，请你只回答\"WebSearch('搜索词')\"，并将'搜索词'替换为你认为需要搜索的关键词。下面请回答我上面提出的问题。\n",
      "        解答:\n",
      "-DD-CustomOutputParser-f_llm_output:  根据提供的已知信息 AWS Clean Room支持S3数据源 \n",
      "-DD-CustomOutputParser-match:  None\n",
      "\u001b[32;1m\u001b[1;3m根据提供的已知信息，AWS Clean Room支持S3数据源。\u001b[0m\n",
      "\n",
      "\u001b[1m> Finished chain.\u001b[0m\n"
     ]
    },
    {
     "data": {
      "text/plain": [
       "'根据提供的已知信息，AWS Clean Room支持S3数据源。'"
      ]
     },
     "execution_count": 9,
     "metadata": {},
     "output_type": "execute_result"
    }
   ],
   "source": [
    "# hierachical chain test\n",
    "hier_agent.query('AWS clean room支持哪些数据源')"
   ]
  },
  {
   "cell_type": "code",
   "execution_count": null,
   "id": "68b18558",
   "metadata": {},
   "outputs": [],
   "source": []
  }
 ],
 "metadata": {
  "kernelspec": {
   "display_name": "conda_python3",
   "language": "python",
   "name": "conda_python3"
  },
  "language_info": {
   "codemirror_mode": {
    "name": "ipython",
    "version": 3
   },
   "file_extension": ".py",
   "mimetype": "text/x-python",
   "name": "python",
   "nbconvert_exporter": "python",
   "pygments_lexer": "ipython3",
   "version": "3.10.10"
  }
 },
 "nbformat": 4,
 "nbformat_minor": 5
}
