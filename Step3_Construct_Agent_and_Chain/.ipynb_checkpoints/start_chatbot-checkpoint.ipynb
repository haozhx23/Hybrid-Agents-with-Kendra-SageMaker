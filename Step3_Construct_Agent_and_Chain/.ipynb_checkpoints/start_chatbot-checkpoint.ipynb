{
 "cells": [
  {
   "cell_type": "markdown",
   "id": "5336446d-645b-40c6-a12b-200e4e140c5e",
   "metadata": {},
   "source": []
  },
  {
   "cell_type": "code",
   "execution_count": null,
   "id": "193c3578-e67b-40fc-b4f1-9a8f9e8fce08",
   "metadata": {},
   "outputs": [],
   "source": [
    "# %%writefile ui_launcher_v.py\n",
    "import gradio as gr\n",
    "import random\n",
    "import time\n",
    "\n",
    "import sagemaker\n",
    "import boto3\n",
    "\n",
    "sess = sagemaker.Session()\n",
    "role = sagemaker.get_execution_role()\n",
    "default_bucket = sess.default_bucket()\n",
    "region = sess.boto_session.region_name\n",
    "\n",
    "from sagemaker_endpoint_llm import SageMakerLLM\n",
    "\n",
    "LLM_ENDPOINT_NAME = 'xxxx-xx-xx-xx-xx' # Paste here SageMaker Endpoint Name created in Step2\n",
    "\n",
    "llm = SageMakerLLM(\n",
    "            SageMakerEndpointName = LLM_ENDPOINT_NAME,\n",
    "            AWSRegion = region,\n",
    "            LLMType = 'GLM-6b',\n",
    "            LLMArgs={'top_p': 0.45, 'temperature': 0.45}\n",
    "        )\n",
    "\n",
    "from kendra_retrieval_qa_chain import KendraLLMRetrieverQAChain\n",
    "\n",
    "KENDRA_INDEX_ID = 'xxxx-xx-xx-xx-xx'    # Paste here Kendra index id created in Step1\n",
    "KENDRA_LANG_CODE = 'zh' # full lang code list in https://docs.aws.amazon.com/kendra/latest/dg/in-adding-languages.html\n",
    "\n",
    "kqa = KendraLLMRetrieverQAChain(\n",
    "            KendraIndexId = KENDRA_INDEX_ID,\n",
    "            KendraLanguageCode = KENDRA_LANG_CODE,\n",
    "            AWSRegion = region,\n",
    "            Llm = llm.get_llm()\n",
    "        )\n",
    "\n",
    "from custom_search_helper import WebSearcher\n",
    "\n",
    "RAPID_API_KEY = '---51-digit-key---' # use rapid api, can be applied in https://rapidapi.com/microsoft-azure-org-microsoft-cognitive-services/api/bing-web-search1/\n",
    "\n",
    "web_sercher = WebSearcher(\n",
    "                apikey = RAPID_API_KEY,\n",
    "                result_count = 5,\n",
    "                lang_code = 'zh',\n",
    "                search_engine = 'bing' # google\n",
    "            )\n",
    "\n",
    "\n",
    "from custom_agent_helper import CustomExecutor\n",
    "\n",
    "flat_agent = CustomExecutor(llm = llm.sm_llm,\n",
    "                        retriever = kqa.kendra_retriever,\n",
    "                        websearcher = web_sercher,\n",
    "                        kendra_chain = None, # retriever will be overwritten if assigned\n",
    "                        verbose=True\n",
    "                       )\n",
    "\n",
    "hier_agent = CustomExecutor(llm = llm.sm_llm,\n",
    "                        retriever = kqa.kendra_retriever,\n",
    "                        websearcher = web_sercher,\n",
    "                        kendra_chain = kqa, # retriever will be overwritten if assigned\n",
    "                        verbose=True\n",
    "                       )\n",
    "\n",
    "web_agent = CustomExecutor(llm = llm.sm_llm,\n",
    "                        retriever = None,\n",
    "                        websearcher = web_sercher,\n",
    "                        kendra_chain = None, # retriever will be overwritten if assigned\n",
    "                        verbose=True\n",
    "                       )\n",
    "\n",
    "theme=gr.themes.Default(spacing_size=gr.themes.sizes.spacing_sm, text_size=gr.themes.sizes.text_sm)\n",
    "with gr.Blocks(theme) as demo:\n",
    "    chatbot = gr.Chatbot()\n",
    "    msg = gr.Textbox(label='User Input: ')\n",
    "    \n",
    "    with gr.Row():\n",
    "        clear = gr.ClearButton([msg, chatbot])\n",
    "        int_btn = gr.Button(\"InternalQA\", variant=\"primary\")\n",
    "        hyb_btn = gr.Button(\"HybridQA\\n(Beta..)\")\n",
    "\n",
    "    def respond(message, chat_history):\n",
    "        bot_resp = hier_agent.query(message)\n",
    "        chat_history.append((message, bot_resp))\n",
    "        \n",
    "        return \"\", chat_history\n",
    "    \n",
    "    def respond_internal(message, chat_history):\n",
    "        bot_resp = kqa.kendra_chain_qa(message)\n",
    "        chat_history.append((message, bot_resp['result']))\n",
    "        \n",
    "        return \"\", chat_history\n",
    "        \n",
    "    msg.submit(respond_internal, [msg, chatbot], [msg, chatbot])\n",
    "    \n",
    "    int_btn.click(respond_internal, [msg, chatbot], [msg, chatbot])\n",
    "    hyb_btn.click(respond, [msg, chatbot], [msg, chatbot])\n",
    "\n",
    "demo.launch()"
   ]
  },
  {
   "cell_type": "code",
   "execution_count": null,
   "id": "1ef62f7a-77e4-4c67-9817-3cbf622c473d",
   "metadata": {},
   "outputs": [],
   "source": []
  },
  {
   "cell_type": "markdown",
   "id": "4641a713-4714-489d-9001-425e6c5ab053",
   "metadata": {},
   "source": [
    "## Unit tests"
   ]
  },
  {
   "cell_type": "code",
   "execution_count": null,
   "id": "fef4957d-ca11-4515-b164-ede60a841433",
   "metadata": {},
   "outputs": [],
   "source": [
    "# model test\n",
    "llm.sm_llm('你最新的知识截止到什么时间')"
   ]
  },
  {
   "cell_type": "code",
   "execution_count": null,
   "id": "be3acdfa-3d94-4698-b9d5-998fdcc8c8b3",
   "metadata": {},
   "outputs": [],
   "source": [
    "# retriever test\n",
    "kqa.kendra_retriever.get_relevant_documents('AWS clean room支持的数据源有哪些')"
   ]
  },
  {
   "cell_type": "code",
   "execution_count": null,
   "id": "37755a90-2021-4dde-8967-86dd57656bd0",
   "metadata": {},
   "outputs": [],
   "source": [
    "resp = kqa.kendra_chain_qa('AWS clean room支持的数据源有哪些')\n",
    "resp['query'], resp['result']"
   ]
  },
  {
   "cell_type": "code",
   "execution_count": null,
   "id": "e0f45f6e-d071-4537-9dc6-a440477bea6a",
   "metadata": {},
   "outputs": [],
   "source": [
    "# web search API test\n",
    "web_sercher.search('moss大模型')"
   ]
  },
  {
   "cell_type": "code",
   "execution_count": null,
   "id": "738bad5c-55d1-40da-b257-714c004fefff",
   "metadata": {},
   "outputs": [],
   "source": [
    "# hierachical chain test\n",
    "hier_agent.query('AWS clean room支持哪些数据源')"
   ]
  }
 ],
 "metadata": {
  "kernelspec": {
   "display_name": "conda_python3",
   "language": "python",
   "name": "conda_python3"
  },
  "language_info": {
   "codemirror_mode": {
    "name": "ipython",
    "version": 3
   },
   "file_extension": ".py",
   "mimetype": "text/x-python",
   "name": "python",
   "nbconvert_exporter": "python",
   "pygments_lexer": "ipython3",
   "version": "3.10.8"
  }
 },
 "nbformat": 4,
 "nbformat_minor": 5
}
